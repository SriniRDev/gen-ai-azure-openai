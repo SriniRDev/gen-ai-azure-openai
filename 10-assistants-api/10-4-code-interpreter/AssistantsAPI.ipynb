{
 "cells": [
  {
   "cell_type": "markdown",
   "metadata": {
    "id": "Zs722OIpy3IO"
   },
   "source": [
    "# ASSISTANTS API\n",
    "\n",
    "This notebook demonstrates the use of the Assistants API from Azure OpenAI to create and interact with a custom AI assistant. The Assistants API enables the creation and management of conversational assistants with specific instructions and tools.\n",
    "\n",
    "Steps Covered:\n",
    "\n",
    "1. Assistant Creation: Define a new assistant by specifying its custom instructions and selecting a model. Tools like the Code Interpreter are enabled to enhance the assistant's capabilities.\n",
    "\n",
    "2. Thread Creation: Initialize a new conversation thread where interactions with the assistant will take place.\n",
    "\n",
    "3. Message Addition: Send messages to the thread, simulating user queries or prompts that the assistant will respond to.\n",
    "\n",
    "4. Running the Assistant: Execute the assistant on the thread to generate responses based on the provided instructions and user inputs. The notebook handles the response retrieval and displays the text content.\n",
    "\n",
    "5. Chat Completions API needs the full conversation to be passed as the body to OpenAI for getting the context but in Assitant API we just need to pass assitant id and thread id."
   ]
  },
  {
   "cell_type": "code",
   "execution_count": 1,
   "metadata": {
    "colab": {
     "base_uri": "https://localhost:8080/"
    },
    "id": "IsYxc-H_rRR6",
    "outputId": "a7c3fd3e-e164-4ecb-b2f3-b9bb71d34e50"
   },
   "outputs": [
    {
     "name": "stdout",
     "output_type": "stream",
     "text": [
      "Requirement already satisfied: openai in ./anaconda3/lib/python3.11/site-packages (1.40.1)\r\n",
      "Requirement already satisfied: anyio<5,>=3.5.0 in ./anaconda3/lib/python3.11/site-packages (from openai) (3.5.0)\r\n",
      "Requirement already satisfied: distro<2,>=1.7.0 in ./anaconda3/lib/python3.11/site-packages (from openai) (1.9.0)\r\n",
      "Requirement already satisfied: httpx<1,>=0.23.0 in ./anaconda3/lib/python3.11/site-packages (from openai) (0.27.0)\r\n",
      "Requirement already satisfied: jiter<1,>=0.4.0 in ./anaconda3/lib/python3.11/site-packages (from openai) (0.5.0)\r\n",
      "Requirement already satisfied: pydantic<3,>=1.9.0 in ./anaconda3/lib/python3.11/site-packages (from openai) (1.10.8)\r\n",
      "Requirement already satisfied: sniffio in ./anaconda3/lib/python3.11/site-packages (from openai) (1.2.0)\r\n",
      "Requirement already satisfied: tqdm>4 in ./anaconda3/lib/python3.11/site-packages (from openai) (4.65.0)\r\n",
      "Requirement already satisfied: typing-extensions<5,>=4.11 in ./anaconda3/lib/python3.11/site-packages (from openai) (4.12.2)\r\n",
      "Requirement already satisfied: idna>=2.8 in ./anaconda3/lib/python3.11/site-packages (from anyio<5,>=3.5.0->openai) (3.4)\r\n",
      "Requirement already satisfied: certifi in ./anaconda3/lib/python3.11/site-packages (from httpx<1,>=0.23.0->openai) (2023.7.22)\r\n",
      "Requirement already satisfied: httpcore==1.* in ./anaconda3/lib/python3.11/site-packages (from httpx<1,>=0.23.0->openai) (1.0.5)\r\n",
      "Requirement already satisfied: h11<0.15,>=0.13 in ./anaconda3/lib/python3.11/site-packages (from httpcore==1.*->httpx<1,>=0.23.0->openai) (0.14.0)\r\n"
     ]
    }
   ],
   "source": [
    "!pip install openai"
   ]
  },
  {
   "cell_type": "code",
   "execution_count": 2,
   "metadata": {
    "id": "hBHMLeGafim1"
   },
   "outputs": [
    {
     "name": "stdout",
     "output_type": "stream",
     "text": [
      "https://cloud-alchemy-aoai.openai.azure.com/\n",
      "https://cloud-alchemy-aoai.openai.azure.com/\n"
     ]
    }
   ],
   "source": [
    "# Step 2: Set up your environment variables for the Azure OpenAI endpoint and API key.\n",
    "from openai import AzureOpenAI\n",
    "from dotenv import load_dotenv\n",
    "import os\n",
    "load_dotenv('azureopenai.env')\n",
    "azure_endpoint = os.getenv(\"AZURE_OPENAI_ENDPOINT\")\n",
    "print (azure_endpoint)\n",
    "print (azure_endpoint)"
   ]
  },
  {
   "cell_type": "code",
   "execution_count": 3,
   "metadata": {
    "id": "RM1mUAIOfxjp"
   },
   "outputs": [],
   "source": [
    "import os\n",
    "from openai import AzureOpenAI\n",
    "\n",
    "# Initialize the Azure OpenAI client with environment variables for the endpoint, API key, and API version\n",
    "client = AzureOpenAI(\n",
    "  azure_endpoint = os.getenv(\"AZURE_OPENAI_ENDPOINT\"), \n",
    "  api_key=os.getenv(\"AZURE_OPENAI_API_KEY\"),                 \n",
    "  api_version=\"2024-05-01-preview\"\n",
    ")\n",
    "\n",
    "# Create a new assistant with specific instructions and tools\n",
    "assistant = client.beta.assistants.create(\n",
    "  name=\"Math Tutor\",  # Name of the assistant\n",
    "  instructions=\"You are a personal maths tutor. Write and run code to answer maths questions.\",  # Instructions for the assistant\n",
    "  tools=[] , # Specify the tool to be used by the assistant ({\"type\": \"code_interpreter\"})\n",
    "model=\"gpt-aoai-text\",  # Specify the deployment name to use\n",
    ")\n"
   ]
  },
  {
   "cell_type": "code",
   "execution_count": 4,
   "metadata": {
    "id": "GObnsO_mtgY3"
   },
   "outputs": [],
   "source": [
    "\n",
    "# Create a new thread to hold the conversation\n",
    "thread = client.beta.threads.create()\n",
    "#thread is an object type which contains a field id which is the unique identifier \n",
    "#of the conversation/thread we have created\n"
   ]
  },
  {
   "cell_type": "code",
   "execution_count": 6,
   "metadata": {
    "id": "wg_6DRoPtn3L"
   },
   "outputs": [],
   "source": [
    "\n",
    "# Send a message from the user to thread\n",
    "message = client.beta.threads.messages.create(\n",
    "  thread_id=thread.id,  # The ID of the thread to send the message to\n",
    "  role=\"user\",  # Role of the sender (user in this case)\n",
    "  content=\"I need to solve the equation `3x + 11 = 14`. Can you help me?\"  # Content of the message\n",
    ")\n",
    "\n",
    "# Run the assistant to process the thread and respond\n",
    "run = client.beta.threads.runs.create_and_poll(\n",
    "  thread_id=thread.id,  # The ID of the thread to run the assistant on\n",
    "  assistant_id=assistant.id,  # The ID of the assistant to use\n",
    "  instructions=\"Please give step by step explanation.\"  # Instructions for the assistant\n",
    ")\n"
   ]
  },
  {
   "cell_type": "code",
   "execution_count": 7,
   "metadata": {
    "colab": {
     "base_uri": "https://localhost:8080/"
    },
    "id": "tReLd_-etpl_",
    "outputId": "6f6738c9-7041-4890-9a72-545a8bc5bbc8"
   },
   "outputs": [
    {
     "name": "stdout",
     "output_type": "stream",
     "text": [
      "Sure! I can help you solve the equation. \n",
      "\n",
      "Step 1: Start with the equation `3x + 11 = 14`.\n",
      "\n",
      "Step 2: To isolate the variable `x`, we want to get rid of the `11` on the left side of the equation. To do this, subtract `11` from both sides of the equation:\n",
      "\n",
      "   3x + 11 - 11 = 14 - 11\n",
      "\n",
      "Simplifying, we get:\n",
      "\n",
      "   3x = 3\n",
      "\n",
      "Step 3: Next, we need to solve for `x`. To do this, divide both sides of the equation by `3`:\n",
      "\n",
      "   (3x)/3 = 3/3\n",
      "\n",
      "Simplifying, we get:\n",
      "\n",
      "   x = 1\n",
      "\n",
      "Step 4: The solution to the equation `3x + 11 = 14` is `x = 1`.\n",
      "I need to solve the equation `3x + 11 = 14`. Can you help me?\n",
      "Sure! I can help you solve the equation. \n",
      "\n",
      "Step 1: Start with the equation `3x + 11 = 14`.\n",
      "\n",
      "Step 2: To isolate the variable `x`, we want to get rid of the `11` on the left side of the equation. To do this, subtract `11` from both sides of the equation.\n",
      "\n",
      "               3x + 11 - 11 = 14 - 11\n",
      "               3x = 3\n",
      "\n",
      "Step 3: Now we have the equation `3x = 3`. To solve for `x`, we need to get `x` by itself on one side of the equation. Since `3x` means `3` multiplied by `x`, we can divide both sides of the equation by `3`.\n",
      "\n",
      "               (3x)/3 = 3/3\n",
      "               x = 1\n",
      "\n",
      "Step 4: The solution to the equation `3x + 11 = 14` is `x = 1`.\n",
      "I need to solve the equation `3x + 11 = 14`. Can you help me?\n"
     ]
    }
   ],
   "source": [
    "\n",
    "# Check if the run status is 'completed'\n",
    "if run.status == 'completed':\n",
    "  # Fetch the list of messages from the thread\n",
    "  messages = client.beta.threads.messages.list(\n",
    "    thread_id=thread.id  # The ID of the thread to fetch messages from\n",
    "  )\n",
    "  # Extract and print the text content from the messages\n",
    "  for msg in messages.data:  # Iterate over each message in the list of messages\n",
    "        for content_block in msg.content:  # Iterate over each content block in the message\n",
    "            if content_block.type == 'text':  # Check if the content block is of type 'text'\n",
    "                print(content_block.text.value)  # Print the text content value\n",
    "else:\n",
    "  # Print the status of the run if it is not 'completed'\n",
    "  print(run.status)"
   ]
  },
  {
   "cell_type": "code",
   "execution_count": 8,
   "metadata": {
    "colab": {
     "base_uri": "https://localhost:8080/",
     "height": 426
    },
    "id": "4i-IJw8luy4B",
    "outputId": "98ed94bc-cf9c-4eb2-a1f8-1b164c4bd96b"
   },
   "outputs": [
    {
     "name": "stdout",
     "output_type": "stream",
     "text": [
      "Enter your question (or type 'exit' to quit): Solve 3x+2=26\n",
      "Assistant: Sure! I can help you solve the equation.\n",
      "\n",
      "Step 1: Start with the equation `3x + 2 = 26`.\n",
      "\n",
      "Step 2: To isolate the variable `x`, we want to get rid of the `2` on the left side of the equation. To do this, subtract `2` from both sides of the equation:\n",
      "\n",
      "   3x + 2 - 2 = 26 - 2\n",
      "\n",
      "Simplifying, we get:\n",
      "\n",
      "   3x = 24\n",
      "\n",
      "Step 3: Next, we need to solve for `x`. To do this, divide both sides of the equation by `3`:\n",
      "\n",
      "   (3x)/3 = 24/3\n",
      "\n",
      "Simplifying, we get:\n",
      "\n",
      "   x = 8\n",
      "\n",
      "Step 4: The solution to the equation `3x + 2 = 26` is `x = 8`.\n",
      "Enter your question (or type 'exit' to quit): Change +2 to -2 , show the equation and give the result\n",
      "Assistant: Sure! I can help you solve the equation `3x - 2 = 26`.\n",
      "\n",
      "The equation is: \n",
      "3x - 2 = 26\n",
      "\n",
      "To solve for `x`, follow these steps:\n",
      "\n",
      "Step 1: Add `2` to both sides of the equation to isolate the `3x` term:\n",
      "3x - 2 + 2 = 26 + 2\n",
      "3x = 28\n",
      "\n",
      "Step 2: Divide both sides of the equation by `3` to solve for `x`:\n",
      "(3x)/3 = 28/3\n",
      "x = 9.3333 (rounded to 4 decimal places)\n",
      "\n",
      "The solution to the equation `3x - 2 = 26` is `x = 9.3333`.\n",
      "Enter your question (or type 'exit' to quit): exit\n",
      "Exiting the chat.\n"
     ]
    }
   ],
   "source": [
    "while True:\n",
    "    # Get user input\n",
    "    user_input = input(\"Enter your question (or type 'exit' to quit): \")\n",
    "\n",
    "    # Exit the loop if the user types 'exit'\n",
    "    if user_input.lower() == 'exit':\n",
    "        print(\"Exiting the chat.\")\n",
    "        break\n",
    "\n",
    "    # Send a message to the thread from the user\n",
    "    message = client.beta.threads.messages.create(\n",
    "        thread_id=thread.id,  # The ID of the thread to send the message to\n",
    "        role=\"user\",  # Role of the sender (user in this case)\n",
    "        content=user_input  # Content of the message from the user\n",
    "    )\n",
    "\n",
    "    # Run the assistant to process the thread and respond\n",
    "    run = client.beta.threads.runs.create_and_poll(\n",
    "        thread_id=thread.id,  # The ID of the thread to run the assistant on\n",
    "        assistant_id=assistant.id,  # The ID of the assistant to use\n",
    "        instructions=\"Give Step by Step explanation.\"  # Instructions for the assistant\n",
    "    )\n",
    "\n",
    "    # Check if the run status is 'completed'\n",
    "    if run.status == 'completed':\n",
    "        # Fetch the list of messages from the thread\n",
    "        messages = client.beta.threads.messages.list(\n",
    "            thread_id=thread.id  # The ID of the thread to fetch messages from\n",
    "        )\n",
    "        # Extract and print only the last message from the assistant\n",
    "        last_message = messages.data[0].content[0].text.value\n",
    "        print(\"Assistant:\", last_message)\n",
    "    else:\n",
    "        # Print the status of the run if it is not 'completed'\n",
    "        print(\"Run status:\", run.status)"
   ]
  },
  {
   "cell_type": "code",
   "execution_count": null,
   "metadata": {},
   "outputs": [],
   "source": []
  }
 ],
 "metadata": {
  "colab": {
   "provenance": []
  },
  "kernelspec": {
   "display_name": "Python 3 (ipykernel)",
   "language": "python",
   "name": "python3"
  },
  "language_info": {
   "codemirror_mode": {
    "name": "ipython",
    "version": 3
   },
   "file_extension": ".py",
   "mimetype": "text/x-python",
   "name": "python",
   "nbconvert_exporter": "python",
   "pygments_lexer": "ipython3",
   "version": "3.11.5"
  }
 },
 "nbformat": 4,
 "nbformat_minor": 1
}
