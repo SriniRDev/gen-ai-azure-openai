{
 "cells": [
  {
   "cell_type": "code",
   "execution_count": null,
   "id": "0aadc469",
   "metadata": {},
   "outputs": [
    {
     "name": "stdout",
     "output_type": "stream",
     "text": [
      "hello world\n"
     ]
    }
   ],
   "source": [
    "print(\"hello world\")"
   ]
  },
  {
   "cell_type": "code",
   "execution_count": null,
   "id": "a1f2d831",
   "metadata": {},
   "outputs": [],
   "source": [
    "from dotenv import load_dotenv\n",
    "import os\n",
    "\n",
    "load_dotenv(\"openai.env\")\n",
    "api_key = os.getenv(\"OPENAI_API_KEY\")"
   ]
  },
  {
   "cell_type": "code",
   "execution_count": null,
   "id": "477eb820",
   "metadata": {},
   "outputs": [
    {
     "data": {
      "text/plain": [
       "<openai.OpenAI at 0x106bf29e0>"
      ]
     },
     "execution_count": 2,
     "metadata": {},
     "output_type": "execute_result"
    }
   ],
   "source": [
    "from openai import OpenAI\n",
    "client = OpenAI()\n",
    "client"
   ]
  },
  {
   "cell_type": "code",
   "execution_count": null,
   "id": "98a8a663",
   "metadata": {},
   "outputs": [
    {
     "data": {
      "text/plain": [
       "ChatCompletion(id='chatcmpl-C1DcmzgAVSUBYRuDOUPPoKoAWWZ8a', choices=[Choice(finish_reason='stop', index=0, logprobs=None, message=ChatCompletionMessage(content=\"Connecting a microphone to a Samsung Galaxy M31 (or any mobile phone) should generally follow the same process, however, some specific might differ based on the model of your microphone. Here are the basic steps to connect a microphone:\\n\\n1. First, make sure that your Grenaro microphone is compatible with mobile phones. Some microphones are designed exclusively for computers or cameras and may not work with mobile devices. Ideally, your microphone should have a 3.5mm jack, same as your headphone.\\n\\n2. Plug your microphone's 3.5mm jack into the headphone jack of your Samsung Galaxy M31. If your device doesn't have a 3.5mm jack, you might need to use a lightning or USB-C adapter.\\n\\n3. Your phone should generally detect the microphone automatically. You can test it by recording a video or audio file and then playing it back to check the sound quality.\\n\\n4. If the microphone does not seem to work, try checking the settings on your phone to see if there are any options to select an external microphone. You also might need a specific app to use an external microphone, depending on your specific microphone model.\\n\\nIf, despite these steps, your microphone is not working with your Samsung Galaxy M31, it might be because the two devices are not compatible. In this case, you should consider getting a microphone specifically designed for use with mobile phones. If the problem persists, consider reaching out to Samsung or Grenaro customer service for additional help.\\n\\nNote that wireless Grenaro microphone would require a Bluetooth connection, which you can set up in the settings section of your phone. \\n\\nThe specific instructions might vary based on the exact model of the Grenaro microphone and the available support by the manufacturer.\", refusal=None, role='assistant', annotations=[], audio=None, function_call=None, tool_calls=None))], created=1754406736, model='gpt-4-0613', object='chat.completion', service_tier='default', system_fingerprint=None, usage=CompletionUsage(completion_tokens=348, prompt_tokens=20, total_tokens=368, completion_tokens_details=CompletionTokensDetails(accepted_prediction_tokens=0, audio_tokens=0, reasoning_tokens=0, rejected_prediction_tokens=0), prompt_tokens_details=PromptTokensDetails(audio_tokens=0, cached_tokens=0)))"
      ]
     },
     "execution_count": 7,
     "metadata": {},
     "output_type": "execute_result"
    }
   ],
   "source": [
    "response = client.chat.completions.create(\n",
    "    model=\"gpt-4\",\n",
    "    messages=[\n",
    "        {\n",
    "            \"role\": \"user\",\n",
    "            \"content\": \"how to connect grenaro mic to samsung galaxy M31 mobile phone\"\n",
    "        }\n",
    "    ]\n",
    ")\n",
    "response"
   ]
  },
  {
   "cell_type": "code",
   "execution_count": null,
   "id": "68bd1f14",
   "metadata": {},
   "outputs": [
    {
     "name": "stdout",
     "output_type": "stream",
     "text": [
      "Connecting a microphone to a Samsung Galaxy M31 (or any mobile phone) should generally follow the same process, however, some specific might differ based on the model of your microphone. Here are the basic steps to connect a microphone:\n",
      "\n",
      "1. First, make sure that your Grenaro microphone is compatible with mobile phones. Some microphones are designed exclusively for computers or cameras and may not work with mobile devices. Ideally, your microphone should have a 3.5mm jack, same as your headphone.\n",
      "\n",
      "2. Plug your microphone's 3.5mm jack into the headphone jack of your Samsung Galaxy M31. If your device doesn't have a 3.5mm jack, you might need to use a lightning or USB-C adapter.\n",
      "\n",
      "3. Your phone should generally detect the microphone automatically. You can test it by recording a video or audio file and then playing it back to check the sound quality.\n",
      "\n",
      "4. If the microphone does not seem to work, try checking the settings on your phone to see if there are any options to select an external microphone. You also might need a specific app to use an external microphone, depending on your specific microphone model.\n",
      "\n",
      "If, despite these steps, your microphone is not working with your Samsung Galaxy M31, it might be because the two devices are not compatible. In this case, you should consider getting a microphone specifically designed for use with mobile phones. If the problem persists, consider reaching out to Samsung or Grenaro customer service for additional help.\n",
      "\n",
      "Note that wireless Grenaro microphone would require a Bluetooth connection, which you can set up in the settings section of your phone. \n",
      "\n",
      "The specific instructions might vary based on the exact model of the Grenaro microphone and the available support by the manufacturer.\n"
     ]
    }
   ],
   "source": [
    "print(response.choices[0].message.content)"
   ]
  }
 ],
 "metadata": {
  "kernelspec": {
   "display_name": "gen-ai-az-openai",
   "language": "python",
   "name": "gen-ai-az-openai"
  },
  "language_info": {
   "codemirror_mode": {
    "name": "ipython",
    "version": 3
   },
   "file_extension": ".py",
   "mimetype": "text/x-python",
   "name": "python",
   "nbconvert_exporter": "python",
   "pygments_lexer": "ipython3",
   "version": "3.10.18"
  }
 },
 "nbformat": 4,
 "nbformat_minor": 5
}
