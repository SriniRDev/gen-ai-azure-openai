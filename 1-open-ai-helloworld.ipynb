{
 "cells": [
  {
   "cell_type": "code",
   "execution_count": 1,
   "id": "0aadc469",
   "metadata": {},
   "outputs": [
    {
     "name": "stdout",
     "output_type": "stream",
     "text": [
      "hello world\n"
     ]
    }
   ],
   "source": [
    "print(\"hello world\")"
   ]
  },
  {
   "cell_type": "code",
   "execution_count": 5,
   "id": "a1f2d831",
   "metadata": {},
   "outputs": [],
   "source": [
    "from dotenv import load_dotenv\n",
    "import os\n",
    "\n",
    "load_dotenv(\"openai.env\")\n",
    "api_key = os.getenv(\"OPENAI_API_KEY\")\n",
    "os.environ[\"OPENAI_API_KEY\"] = api_key"
   ]
  },
  {
   "cell_type": "code",
   "execution_count": 6,
   "id": "477eb820",
   "metadata": {},
   "outputs": [
    {
     "data": {
      "text/plain": [
       "<openai.OpenAI at 0x11dfcf130>"
      ]
     },
     "execution_count": 6,
     "metadata": {},
     "output_type": "execute_result"
    }
   ],
   "source": [
    "from openai import OpenAI\n",
    "client = OpenAI()\n",
    "client"
   ]
  },
  {
   "cell_type": "code",
   "execution_count": 7,
   "id": "98a8a663",
   "metadata": {},
   "outputs": [
    {
     "data": {
      "text/plain": [
       "ChatCompletion(id='chatcmpl-C9SxaEjJot3ZAlPRtYWsyOQ60xmhD', choices=[Choice(finish_reason='stop', index=0, logprobs=None, message=ChatCompletionMessage(content='I am sorry but I couldn\\'t find any product named \"Grenaro mic\". Could you please check the spelling? Furthermore, the connection of mic with Samsung Galaxy M31 mobile phone mostly depends on the type of connector the mic has.\\n\\nBut generally, here are the steps on how to connect an external microphone to a Samsung Galaxy phone, perhaps it can help you:\\n\\n1. Identify the connection type of your microphone. This could be either a 3.5mm jack, USB or Bluetooth. The Samsung Galaxy M31 features a 3.5mm jack and USB-C port and also supports Bluetooth, so external microphones with any of these connection types can be used.\\n\\n2. If it\\'s a microphone with a 3.5mm jack, simply plug it into the headphone jack of your phone. \\n\\n3. For USB microphones, you may need a USB-C to USB adapter since the Galaxy M31 has a USB-C port.\\n\\n4. If it\\'s a Bluetooth mic, go on your phone settings-> connections-> Bluetooth, turn it on and put your microphone in pairing mode to connect it. \\n\\n5. Once the mic is connected, you can go to the app you wish to use the microphone with and select it as your audio input, if the app supports it.\\n\\nBut please follow the User Manual given with the product for more accurate instructions.', refusal=None, role='assistant', annotations=[], audio=None, function_call=None, tool_calls=None))], created=1756372310, model='gpt-4-0613', object='chat.completion', service_tier='default', system_fingerprint=None, usage=CompletionUsage(completion_tokens=275, prompt_tokens=20, total_tokens=295, completion_tokens_details=CompletionTokensDetails(accepted_prediction_tokens=0, audio_tokens=0, reasoning_tokens=0, rejected_prediction_tokens=0), prompt_tokens_details=PromptTokensDetails(audio_tokens=0, cached_tokens=0)))"
      ]
     },
     "execution_count": 7,
     "metadata": {},
     "output_type": "execute_result"
    }
   ],
   "source": [
    "response = client.chat.completions.create(\n",
    "    model=\"gpt-4\",\n",
    "    messages=[\n",
    "        {\n",
    "            \"role\": \"user\",\n",
    "            \"content\": \"how to connect grenaro mic to samsung galaxy M31 mobile phone\"\n",
    "        }\n",
    "    ]\n",
    ")\n",
    "response"
   ]
  },
  {
   "cell_type": "code",
   "execution_count": 8,
   "id": "68bd1f14",
   "metadata": {},
   "outputs": [
    {
     "name": "stdout",
     "output_type": "stream",
     "text": [
      "I am sorry but I couldn't find any product named \"Grenaro mic\". Could you please check the spelling? Furthermore, the connection of mic with Samsung Galaxy M31 mobile phone mostly depends on the type of connector the mic has.\n",
      "\n",
      "But generally, here are the steps on how to connect an external microphone to a Samsung Galaxy phone, perhaps it can help you:\n",
      "\n",
      "1. Identify the connection type of your microphone. This could be either a 3.5mm jack, USB or Bluetooth. The Samsung Galaxy M31 features a 3.5mm jack and USB-C port and also supports Bluetooth, so external microphones with any of these connection types can be used.\n",
      "\n",
      "2. If it's a microphone with a 3.5mm jack, simply plug it into the headphone jack of your phone. \n",
      "\n",
      "3. For USB microphones, you may need a USB-C to USB adapter since the Galaxy M31 has a USB-C port.\n",
      "\n",
      "4. If it's a Bluetooth mic, go on your phone settings-> connections-> Bluetooth, turn it on and put your microphone in pairing mode to connect it. \n",
      "\n",
      "5. Once the mic is connected, you can go to the app you wish to use the microphone with and select it as your audio input, if the app supports it.\n",
      "\n",
      "But please follow the User Manual given with the product for more accurate instructions.\n"
     ]
    }
   ],
   "source": [
    "print(response.choices[0].message.content)"
   ]
  }
 ],
 "metadata": {
  "kernelspec": {
   "display_name": "gen-ai-az-openai",
   "language": "python",
   "name": "gen-ai-az-openai"
  },
  "language_info": {
   "codemirror_mode": {
    "name": "ipython",
    "version": 3
   },
   "file_extension": ".py",
   "mimetype": "text/x-python",
   "name": "python",
   "nbconvert_exporter": "python",
   "pygments_lexer": "ipython3",
   "version": "3.10.18"
  }
 },
 "nbformat": 4,
 "nbformat_minor": 5
}
