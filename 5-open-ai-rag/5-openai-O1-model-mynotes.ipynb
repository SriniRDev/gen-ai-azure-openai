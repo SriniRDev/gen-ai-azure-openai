{
 "cells": [
  {
   "cell_type": "markdown",
   "id": "5e8049cd",
   "metadata": {},
   "source": [
    "![5-openai-O1-model.png](5-openai-O1-model.png)"
   ]
  },
  {
   "cell_type": "markdown",
   "id": "2e228c1f",
   "metadata": {},
   "source": [
    "---\n",
    "\n",
    "### 🔍 **What is the OpenAI O1 Model?**\n",
    "- **O1** likely stands for **OpenAI's first version** of a new model series focused on **deep reasoning** and **complex tasks**.\n",
    "- It's a **departure from the GPT naming** (e.g., GPT-4, GPT-5), signaling a new direction.\n",
    "\n",
    "---\n",
    "\n",
    "### 🧠 **Key Features**\n",
    "- **Trained with Reinforcement Learning (RL):** Uses agents that learn by receiving rewards/penalties.\n",
    "- **Chain-of-Thought Reasoning:** Solves problems step-by-step, like humans, improving **accuracy** and **transparency**.\n",
    "- **Thinks Before Responding:** Unlike GPT-4, which responds immediately, O1 models internally process multiple reasoning steps before answering.\n",
    "\n",
    "---\n",
    "\n",
    "### ⚙️ **Performance & Capabilities**\n",
    "- Excels in **scientific reasoning**, **coding**, and **math**.\n",
    "- Ranks in the **89th percentile** on Codeforces and surpasses **PhD-level benchmarks**.\n",
    "- Can **correct its own mistakes**, unlike GPT-4 which lacks a \"reverse gear\".\n",
    "\n",
    "---\n",
    "\n",
    "### 💰 **Cost & Reasoning Tokens**\n",
    "- **More expensive** due to **reasoning tokens**:\n",
    "  - These are internal steps used to explore multiple solution paths.\n",
    "  - They consume space in the context window and are billed as output tokens.\n",
    "\n",
    "---\n",
    "\n",
    "### 🧩 **Variants**\n",
    "- **O1:** Full model for deep reasoning across broad knowledge.\n",
    "- **O1 Mini:** A **faster, cheaper** version optimized for tasks like coding and math, where less general knowledge is needed.\n",
    "\n",
    "---\n"
   ]
  }
 ],
 "metadata": {
  "language_info": {
   "name": "python"
  }
 },
 "nbformat": 4,
 "nbformat_minor": 5
}
