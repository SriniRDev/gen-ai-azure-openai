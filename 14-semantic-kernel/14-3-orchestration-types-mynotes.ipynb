{
 "cells": [
  {
   "cell_type": "markdown",
   "id": "2681474f",
   "metadata": {},
   "source": [
    "---\n",
    "\n",
    "# 🔌 Semantic Kernel Orchestration types\n",
    "\n",
    "## - Sequential\n",
    "## - Parallel\n",
    "## - Group chat\n",
    "## - Handoff\n",
    "## - Magentic\n",
    "\n",
    "---"
   ]
  }
 ],
 "metadata": {
  "language_info": {
   "name": "python"
  }
 },
 "nbformat": 4,
 "nbformat_minor": 5
}
