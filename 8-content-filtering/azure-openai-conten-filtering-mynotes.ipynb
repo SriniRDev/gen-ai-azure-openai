{
 "cells": [
  {
   "cell_type": "markdown",
   "id": "28d36084",
   "metadata": {},
   "source": [
    "### Prompt Shield\n",
    "### Jail breaking\n",
    "\n",
    "![8-1-azure-openai-content-filtering-basics.png](8-1-azure-openai-content-filtering-basics.png)\n",
    "![8-2-azure-openai-content-filtering-categories.png](8-2-azure-openai-content-filtering-categories.png)\n",
    "![8-3-azure-openai-content-filtering-prompt-shields.png](8-3-azure-openai-content-filtering-prompt-shields.png)"
   ]
  }
 ],
 "metadata": {
  "language_info": {
   "name": "python"
  }
 },
 "nbformat": 4,
 "nbformat_minor": 5
}
